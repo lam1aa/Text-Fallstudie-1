{
 "cells": [
  {
   "cell_type": "markdown",
   "id": "4c8c6b9a",
   "metadata": {},
   "source": [
    "# Ausblick: Die Auswirkung der LLM-Nachkorrektur auf die Suche nach Textspuren der Spanischen Grippe <!-- Outlook: LLM postcorrection effect on the search for Spanish Flu -->\n",
    "\n",
    "\n",
    "Nachdem wir unsere Analyse abgeschlossen haben, kommen wir nun zurück zur Frage der LLM-Nachkorrektur. Was würde passieren, wenn wir unser Korpus mit LLMs nachkorrigieren würden? Wir haben es an einer Datei (SNP2719372X-19181012-0-0-0-0.pdf) getestet und die gesamte OCR-Datei über die GPT-4-API laufen lassen. Hier sind die beiden Segmente derselben Seite, die den Unterschied vor (links) und nach (rechts) der LLM-Nachkorrektur veranschaulichen:\n",
    "\n",
    "<!-- Now that we have done our analysis, let us get back to the question of LLM postcorrection. What would happen, if we post-corrected our corpus with LLMs? We tested it on one file, running the whole OCR-ed file through GPT-4 API. Here are the two segments of the same page that demonstrate the difference before (left) and after (right) the LLM postcorrection:-->\n",
    "\n",
    "![llm_vs_original](../assets/images/llm_vs_original.jpg)\n",
    "\n",
    "<!-- Let us now see if this affected the count of Grippe-related words in that file: -->\n",
    "\n",
    "Sehen wir uns nun an, ob sich dies auf die Anzahl der Grippe-bezogenen Wörter in dieser Datei auswirkt:\n",
    "\n",
    "## Definieren der Wortliste (erneut):"
   ]
  },
  {
   "cell_type": "code",
   "execution_count": 7,
   "id": "5848c607",
   "metadata": {},
   "outputs": [],
   "source": [
    "grippe_list = ['Influenza',\n",
    "'Grippe',\n",
    "'Grippeepidemie',\n",
    "'Grippewelle',\n",
    "'Grippekranke',              \n",
    "'Grippepandemie',\n",
    "'Lungenentzündung',\n",
    "'Krankheitswelle',\n",
    "'Seuchenzug',\n",
    "'Krankheitsausbruch',\n",
    "'Fieberanfall',\n",
    "'Schüttelfrost',\n",
    "'Atemnot',\n",
    "'Körpererschöpfung',\n",
    "'Genesungszeit',\n",
    "'Ansteckungsgefahr',\n",
    "'Seuchenschutz',\n",
    "'Desinfektionsmittel',\n",
    "'Schutzmaske',\n",
    "'Krankenstation',\n",
    "'Isolationsstation',\n",
    "'Sanitätsdienst',\n",
    "'Krankheitsverlauf',\n",
    "'Todesopfer',\n",
    "'Krankheitssymptom',\n",
    "'Erkrankungsfall',\n",
    "'Lungeninfektion']"
   ]
  },
  {
   "cell_type": "markdown",
   "id": "e12d9cbc",
   "metadata": {},
   "source": [
    "## Lesen der Anmerkungen der beiden Dateien (Original und nachträglich korrigiert) <!-- Reading the annotations of the two files (original and post-corrected) -->"
   ]
  },
  {
   "cell_type": "code",
   "execution_count": 4,
   "id": "523d974f",
   "metadata": {},
   "outputs": [],
   "source": [
    "import pandas as pd"
   ]
  },
  {
   "cell_type": "code",
   "execution_count": 6,
   "id": "b1562b34",
   "metadata": {},
   "outputs": [],
   "source": [
    "original = pd.read_csv('../data/csv/SNP2719372X-19181012-0-0-0-0.csv')\n",
    "post_llm = pd.read_csv('../data/csv/SNP2719372X-19181012-0-0-0-0_llm_postcorr.csv')"
   ]
  },
  {
   "cell_type": "markdown",
   "id": "b1fbcd85",
   "metadata": {},
   "source": [
    "## Zählen der Wörter der Liste für jede Datei <!-- Counting the words of the list for each file -->"
   ]
  },
  {
   "cell_type": "code",
   "execution_count": 8,
   "id": "13fecca8",
   "metadata": {},
   "outputs": [],
   "source": [
    "def count_words(annotation, wordlist):\n",
    "    result = annotation.query(f'Lemma.isin({wordlist})')\n",
    "    return result.shape[0]"
   ]
  },
  {
   "cell_type": "code",
   "execution_count": 9,
   "id": "1f75b840",
   "metadata": {},
   "outputs": [
    {
     "data": {
      "text/plain": [
       "13"
      ]
     },
     "execution_count": 9,
     "metadata": {},
     "output_type": "execute_result"
    }
   ],
   "source": [
    "count_words(original, grippe_list)"
   ]
  },
  {
   "cell_type": "code",
   "execution_count": 10,
   "id": "420e65b9",
   "metadata": {},
   "outputs": [
    {
     "data": {
      "text/plain": [
       "16"
      ]
     },
     "execution_count": 10,
     "metadata": {},
     "output_type": "execute_result"
    }
   ],
   "source": [
    "count_words(post_llm, grippe_list)"
   ]
  },
  {
   "cell_type": "markdown",
   "id": "c8c6cef4",
   "metadata": {},
   "source": [
    "LLM verbessert in diesem Fall also nicht nur das Erscheinungsbild der Texte, sondern hilft auch dabei, einige Erwähnungen von Grippe-bezogenen Wörtern wiederherzustellen.\n",
    "<!-- So LLM in this case improves not only the appearance of the texts, but also actually helps to recover some mentions of Grippe-related words -->"
   ]
  }
 ],
 "metadata": {
  "kernelspec": {
   "display_name": "Python 3 (ipykernel)",
   "language": "python",
   "name": "python3"
  },
  "language_info": {
   "codemirror_mode": {
    "name": "ipython",
    "version": 3
   },
   "file_extension": ".py",
   "mimetype": "text/x-python",
   "name": "python",
   "nbconvert_exporter": "python",
   "pygments_lexer": "ipython3",
   "version": "3.12.8"
  }
 },
 "nbformat": 4,
 "nbformat_minor": 5
}
